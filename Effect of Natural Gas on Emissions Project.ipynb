{
 "cells": [
  {
   "cell_type": "code",
   "execution_count": 1,
   "metadata": {},
   "outputs": [],
   "source": [
    "import pandas as pd\n",
    "import numpy as np\n",
    "import random\n",
    "import matplotlib.pyplot as plt\n",
    "from sklearn import datasets, linear_model"
   ]
  },
  {
   "cell_type": "markdown",
   "metadata": {},
   "source": [
    "### Importing Data"
   ]
  },
  {
   "cell_type": "code",
   "execution_count": 2,
   "metadata": {},
   "outputs": [],
   "source": [
    "data = pd.read_csv('F:/DA/dgs_metadata_filtered.csv')"
   ]
  },
  {
   "cell_type": "markdown",
   "metadata": {},
   "source": [
    "### This Data has almost 25 features but we need only some particular "
   ]
  },
  {
   "cell_type": "code",
   "execution_count": 3,
   "metadata": {
    "scrolled": false
   },
   "outputs": [
    {
     "data": {
      "text/html": [
       "<div>\n",
       "<style scoped>\n",
       "    .dataframe tbody tr th:only-of-type {\n",
       "        vertical-align: middle;\n",
       "    }\n",
       "\n",
       "    .dataframe tbody tr th {\n",
       "        vertical-align: top;\n",
       "    }\n",
       "\n",
       "    .dataframe thead th {\n",
       "        text-align: right;\n",
       "    }\n",
       "</style>\n",
       "<table border=\"1\" class=\"dataframe\">\n",
       "  <thead>\n",
       "    <tr style=\"text-align: right;\">\n",
       "      <th></th>\n",
       "      <th>id</th>\n",
       "      <th>name</th>\n",
       "      <th>address</th>\n",
       "      <th>square_feet</th>\n",
       "      <th>PSU</th>\n",
       "      <th>EUI</th>\n",
       "      <th>city</th>\n",
       "      <th>country</th>\n",
       "      <th>state</th>\n",
       "      <th>yearBuilt</th>\n",
       "      <th>...</th>\n",
       "      <th>referencePropertyTypeMedian</th>\n",
       "      <th>systemDefinedPropertyType</th>\n",
       "      <th>annual_electricity_use</th>\n",
       "      <th>annual_energy_cost</th>\n",
       "      <th>annual_ghg_emissions</th>\n",
       "      <th>annual_natural_gas_use</th>\n",
       "      <th>cost_per_square_foot</th>\n",
       "      <th>gas_percent_of_energy_cost</th>\n",
       "      <th>latitude</th>\n",
       "      <th>longitude</th>\n",
       "    </tr>\n",
       "  </thead>\n",
       "  <tbody>\n",
       "    <tr>\n",
       "      <th>0</th>\n",
       "      <td>1</td>\n",
       "      <td>1st District Headquarters</td>\n",
       "      <td>101 M STREET SW</td>\n",
       "      <td>90635.0</td>\n",
       "      <td>Police Station</td>\n",
       "      <td>78.0</td>\n",
       "      <td>Washington</td>\n",
       "      <td>US</td>\n",
       "      <td>DC</td>\n",
       "      <td>2011.0</td>\n",
       "      <td>...</td>\n",
       "      <td>CBECS - Fire Station/Police Station</td>\n",
       "      <td>Police Station</td>\n",
       "      <td>1549348.79</td>\n",
       "      <td>$198,497.95</td>\n",
       "      <td>1011.75</td>\n",
       "      <td>17683.92</td>\n",
       "      <td>$2.19</td>\n",
       "      <td>8.68%</td>\n",
       "      <td>38.88</td>\n",
       "      <td>-77.01</td>\n",
       "    </tr>\n",
       "    <tr>\n",
       "      <th>1</th>\n",
       "      <td>10</td>\n",
       "      <td>Shadd Elementary</td>\n",
       "      <td>5601 EAST CAPITOL STREET SE</td>\n",
       "      <td>72100.0</td>\n",
       "      <td>K-12 School</td>\n",
       "      <td>65.0</td>\n",
       "      <td>Washington</td>\n",
       "      <td>US</td>\n",
       "      <td>DC</td>\n",
       "      <td>1000.0</td>\n",
       "      <td>...</td>\n",
       "      <td>CBECS - Elementary/Middle &amp; High School</td>\n",
       "      <td>K-12 School</td>\n",
       "      <td>534735.00</td>\n",
       "      <td>$90,468.12</td>\n",
       "      <td>468.73</td>\n",
       "      <td>28649.00</td>\n",
       "      <td>$1.25</td>\n",
       "      <td>30.84%</td>\n",
       "      <td>NaN</td>\n",
       "      <td>NaN</td>\n",
       "    </tr>\n",
       "    <tr>\n",
       "      <th>2</th>\n",
       "      <td>100</td>\n",
       "      <td>Johnson Middle School</td>\n",
       "      <td>1400 BRUCE PLACE SE</td>\n",
       "      <td>182500.0</td>\n",
       "      <td>K-12 School</td>\n",
       "      <td>46.0</td>\n",
       "      <td>Washington</td>\n",
       "      <td>US</td>\n",
       "      <td>DC</td>\n",
       "      <td>1970.0</td>\n",
       "      <td>...</td>\n",
       "      <td>CBECS - Elementary/Middle &amp; High School</td>\n",
       "      <td>K-12 School</td>\n",
       "      <td>1726578.97</td>\n",
       "      <td>$227,054.24</td>\n",
       "      <td>1159.33</td>\n",
       "      <td>25713.04</td>\n",
       "      <td>$1.24</td>\n",
       "      <td>11.03%</td>\n",
       "      <td>NaN</td>\n",
       "      <td>NaN</td>\n",
       "    </tr>\n",
       "    <tr>\n",
       "      <th>3</th>\n",
       "      <td>101</td>\n",
       "      <td>Douglass Community Center</td>\n",
       "      <td>1898 STANTON TERRACE SE</td>\n",
       "      <td>4336.0</td>\n",
       "      <td>Social/Meeting Hall</td>\n",
       "      <td>31.0</td>\n",
       "      <td>NaN</td>\n",
       "      <td>NaN</td>\n",
       "      <td>NaN</td>\n",
       "      <td>NaN</td>\n",
       "      <td>...</td>\n",
       "      <td>NaN</td>\n",
       "      <td>NaN</td>\n",
       "      <td>39184.10</td>\n",
       "      <td>$4,584.54</td>\n",
       "      <td>23.22</td>\n",
       "      <td>0.00</td>\n",
       "      <td>$1.06</td>\n",
       "      <td>NaN</td>\n",
       "      <td>38.85</td>\n",
       "      <td>-76.98</td>\n",
       "    </tr>\n",
       "    <tr>\n",
       "      <th>4</th>\n",
       "      <td>102</td>\n",
       "      <td>Group Home</td>\n",
       "      <td>1259 SUMNER ROAD SE</td>\n",
       "      <td>2000.0</td>\n",
       "      <td>Other - Lodging/Residential</td>\n",
       "      <td>86.0</td>\n",
       "      <td>NaN</td>\n",
       "      <td>NaN</td>\n",
       "      <td>NaN</td>\n",
       "      <td>NaN</td>\n",
       "      <td>...</td>\n",
       "      <td>NaN</td>\n",
       "      <td>NaN</td>\n",
       "      <td>22182.40</td>\n",
       "      <td>$3,529.19</td>\n",
       "      <td>18.23</td>\n",
       "      <td>958.78</td>\n",
       "      <td>$1.76</td>\n",
       "      <td>26.46%</td>\n",
       "      <td>NaN</td>\n",
       "      <td>NaN</td>\n",
       "    </tr>\n",
       "  </tbody>\n",
       "</table>\n",
       "<p>5 rows × 25 columns</p>\n",
       "</div>"
      ],
      "text/plain": [
       "    id                       name                      address  square_feet  \\\n",
       "0    1  1st District Headquarters              101 M STREET SW      90635.0   \n",
       "1   10           Shadd Elementary  5601 EAST CAPITOL STREET SE      72100.0   \n",
       "2  100      Johnson Middle School          1400 BRUCE PLACE SE     182500.0   \n",
       "3  101  Douglass Community Center      1898 STANTON TERRACE SE       4336.0   \n",
       "4  102                 Group Home          1259 SUMNER ROAD SE       2000.0   \n",
       "\n",
       "                           PSU   EUI        city country state  yearBuilt  \\\n",
       "0               Police Station  78.0  Washington      US    DC     2011.0   \n",
       "1                  K-12 School  65.0  Washington      US    DC     1000.0   \n",
       "2                  K-12 School  46.0  Washington      US    DC     1970.0   \n",
       "3          Social/Meeting Hall  31.0         NaN     NaN   NaN        NaN   \n",
       "4  Other - Lodging/Residential  86.0         NaN     NaN   NaN        NaN   \n",
       "\n",
       "     ...                  referencePropertyTypeMedian  \\\n",
       "0    ...          CBECS - Fire Station/Police Station   \n",
       "1    ...      CBECS - Elementary/Middle & High School   \n",
       "2    ...      CBECS - Elementary/Middle & High School   \n",
       "3    ...                                          NaN   \n",
       "4    ...                                          NaN   \n",
       "\n",
       "   systemDefinedPropertyType  annual_electricity_use annual_energy_cost  \\\n",
       "0             Police Station              1549348.79        $198,497.95   \n",
       "1                K-12 School               534735.00         $90,468.12   \n",
       "2                K-12 School              1726578.97        $227,054.24   \n",
       "3                        NaN                39184.10          $4,584.54   \n",
       "4                        NaN                22182.40          $3,529.19   \n",
       "\n",
       "   annual_ghg_emissions annual_natural_gas_use cost_per_square_foot  \\\n",
       "0               1011.75               17683.92                $2.19   \n",
       "1                468.73               28649.00                $1.25   \n",
       "2               1159.33               25713.04                $1.24   \n",
       "3                 23.22                   0.00                $1.06   \n",
       "4                 18.23                 958.78                $1.76   \n",
       "\n",
       "   gas_percent_of_energy_cost latitude  longitude  \n",
       "0                       8.68%    38.88     -77.01  \n",
       "1                      30.84%      NaN        NaN  \n",
       "2                      11.03%      NaN        NaN  \n",
       "3                         NaN    38.85     -76.98  \n",
       "4                      26.46%      NaN        NaN  \n",
       "\n",
       "[5 rows x 25 columns]"
      ]
     },
     "execution_count": 3,
     "metadata": {},
     "output_type": "execute_result"
    }
   ],
   "source": [
    "data.head()"
   ]
  },
  {
   "cell_type": "markdown",
   "metadata": {},
   "source": [
    "### What we are doing here is slicing required data from main dataframe to a new one. From the main data frame we extract the features such as: \n",
    " Area as 'Sqr_Ft'\n",
    " Annual Energy use as 'Annual gas use'\n",
    " Cost incured per sq.ft as 'cost_per'\n",
    " Green house gas Emission of the building as 'Gas_emision'"
   ]
  },
  {
   "cell_type": "code",
   "execution_count": 4,
   "metadata": {},
   "outputs": [],
   "source": [
    "new_data = pd.DataFrame({'Sqr_Ft' : data.loc[:,'square_feet'],\n",
    "                        'Annual_use' : data.loc[:,'annual_electricity_use'],\n",
    "                        'Annual gas use' : data.loc[:,'annual_natural_gas_use'], \n",
    "                        'cost_per' : data.loc[:,'cost_per_square_foot'], \n",
    "                        'Gas_emmision' : data.loc[:,'annual_ghg_emissions']})"
   ]
  },
  {
   "cell_type": "markdown",
   "metadata": {},
   "source": [
    "### Striping of doller sign and converting it into float"
   ]
  },
  {
   "cell_type": "code",
   "execution_count": 5,
   "metadata": {},
   "outputs": [],
   "source": [
    "for i in range(0,658):\n",
    "    if not (pd.isnull(new_data.loc[i,'cost_per'])) :\n",
    "        new_data.loc[i,'cost_per'] = float(new_data.loc[i,'cost_per'].strip('$'))\n",
    "    i=i+1"
   ]
  },
  {
   "cell_type": "markdown",
   "metadata": {},
   "source": [
    "Checking For Null values"
   ]
  },
  {
   "cell_type": "code",
   "execution_count": 6,
   "metadata": {},
   "outputs": [
    {
     "data": {
      "text/plain": [
       "285"
      ]
     },
     "execution_count": 6,
     "metadata": {},
     "output_type": "execute_result"
    }
   ],
   "source": [
    "new_data['Sqr_Ft'].isna().sum()"
   ]
  },
  {
   "cell_type": "markdown",
   "metadata": {},
   "source": [
    "### Removing all empty or defective rows "
   ]
  },
  {
   "cell_type": "code",
   "execution_count": 7,
   "metadata": {},
   "outputs": [],
   "source": [
    "new_data = new_data.dropna(subset = ['Sqr_Ft'])\n",
    "new_data.dropna(subset = ['Annual gas use'], inplace=True)"
   ]
  },
  {
   "cell_type": "markdown",
   "metadata": {},
   "source": [
    "After cleaning the data now its time to get our features ready, so we are diving the existing columns with suitable ones to the following values respectively:"
   ]
  },
  {
   "cell_type": "markdown",
   "metadata": {},
   "source": [
    "1)Percent of total energy from natural gas as 'gas_percent'"
   ]
  },
  {
   "cell_type": "markdown",
   "metadata": {},
   "source": [
    "2)Emissions per square feet as 'EPF'"
   ]
  },
  {
   "cell_type": "markdown",
   "metadata": {},
   "source": [
    "3)Energy used per square feet as 'Energy_PF'"
   ]
  },
  {
   "cell_type": "markdown",
   "metadata": {},
   "source": [
    "4)Ammount of gas used as 'gas_used_PF'"
   ]
  },
  {
   "cell_type": "code",
   "execution_count": 8,
   "metadata": {},
   "outputs": [],
   "source": [
    "new_data['gas_percent'] = new_data['Annual gas use']/new_data['Annual_use']\n",
    "new_data['EPF'] = new_data['Gas_emmision']/new_data['Sqr_Ft']\n",
    "new_data['Energy_PF'] = new_data['Annual_use']/new_data['Sqr_Ft']\n",
    "new_data['gas_used_PF'] = new_data['Annual gas use']/new_data['Sqr_Ft']\n"
   ]
  },
  {
   "cell_type": "markdown",
   "metadata": {},
   "source": [
    "### Checking and cleaning data for any defects such as infinity or NaN which may arrisie due to division"
   ]
  },
  {
   "cell_type": "code",
   "execution_count": 9,
   "metadata": {},
   "outputs": [],
   "source": [
    "new_data.replace([np.inf,-np.inf], np.nan,inplace=True)\n",
    "new_data.dropna(subset=['gas_percent','EPF','Energy_PF','gas_used_PF'],inplace=True)"
   ]
  },
  {
   "cell_type": "markdown",
   "metadata": {},
   "source": [
    "### Assiging a Linear Regression model to reg1"
   ]
  },
  {
   "cell_type": "code",
   "execution_count": 10,
   "metadata": {},
   "outputs": [],
   "source": [
    "reg1 = linear_model.LinearRegression(normalize=True)"
   ]
  },
  {
   "cell_type": "code",
   "execution_count": 11,
   "metadata": {},
   "outputs": [
    {
     "data": {
      "text/plain": [
       "(365, 9)"
      ]
     },
     "execution_count": 11,
     "metadata": {},
     "output_type": "execute_result"
    }
   ],
   "source": [
    "new_data.shape"
   ]
  },
  {
   "cell_type": "markdown",
   "metadata": {},
   "source": [
    "### Reseting Index"
   ]
  },
  {
   "cell_type": "code",
   "execution_count": 12,
   "metadata": {},
   "outputs": [],
   "source": [
    "new_data.reset_index(inplace=True)"
   ]
  },
  {
   "cell_type": "markdown",
   "metadata": {},
   "source": [
    "### Spliting the data into 2 fragmets one as train data used for training the data set, another as a test data used for validating the model "
   ]
  },
  {
   "cell_type": "code",
   "execution_count": 13,
   "metadata": {},
   "outputs": [],
   "source": [
    "TrainD= new_data.loc[0:349,:]\n",
    "TestD= new_data.loc[350:364,:]"
   ]
  },
  {
   "cell_type": "markdown",
   "metadata": {},
   "source": [
    "### Normalizing the data so that no value dominates other features while regression"
   ]
  },
  {
   "cell_type": "code",
   "execution_count": 14,
   "metadata": {},
   "outputs": [],
   "source": [
    "TR = pd.DataFrame({'gas_percent_N':(TrainD['gas_percent']/(TrainD['gas_percent'].median())),\n",
    "                         'EPF': TrainD['EPF']/(TrainD['EPF'].median()),\n",
    "                         'Energy_PF':TrainD['Energy_PF']/(TrainD['Energy_PF'].median()),\n",
    "                         'gas_used_PF':TrainD['gas_used_PF']/(TrainD['gas_used_PF'].median()),\n",
    "                          'Total_Energy':TrainD['Annual_use']/(TrainD['Annual_use'].median())})"
   ]
  },
  {
   "cell_type": "code",
   "execution_count": 15,
   "metadata": {},
   "outputs": [],
   "source": [
    "TD = pd.DataFrame({'gas_percent_N':(TestD['gas_percent']/(TestD['gas_percent'].median())),\n",
    "                         'EPF': TestD['EPF']/(TestD['EPF'].median()),\n",
    "                         'Energy_PF':TestD['Energy_PF']/(TestD['Energy_PF'].median()),\n",
    "                         'gas_used_PF':(TestD['gas_used_PF']/TestD['gas_used_PF'].median()),\n",
    "                          'Total_Energy':TestD['Annual_use']/(TestD['Annual_use'].median())})"
   ]
  },
  {
   "cell_type": "code",
   "execution_count": 16,
   "metadata": {
    "scrolled": true
   },
   "outputs": [
    {
     "data": {
      "text/html": [
       "<div>\n",
       "<style scoped>\n",
       "    .dataframe tbody tr th:only-of-type {\n",
       "        vertical-align: middle;\n",
       "    }\n",
       "\n",
       "    .dataframe tbody tr th {\n",
       "        vertical-align: top;\n",
       "    }\n",
       "\n",
       "    .dataframe thead th {\n",
       "        text-align: right;\n",
       "    }\n",
       "</style>\n",
       "<table border=\"1\" class=\"dataframe\">\n",
       "  <thead>\n",
       "    <tr style=\"text-align: right;\">\n",
       "      <th></th>\n",
       "      <th>gas_percent_N</th>\n",
       "      <th>EPF</th>\n",
       "      <th>Energy_PF</th>\n",
       "      <th>gas_used_PF</th>\n",
       "      <th>Total_Energy</th>\n",
       "    </tr>\n",
       "  </thead>\n",
       "  <tbody>\n",
       "    <tr>\n",
       "      <th>350</th>\n",
       "      <td>5.963017</td>\n",
       "      <td>0.054750</td>\n",
       "      <td>0.032620</td>\n",
       "      <td>0.200824</td>\n",
       "      <td>0.004015</td>\n",
       "    </tr>\n",
       "    <tr>\n",
       "      <th>351</th>\n",
       "      <td>1.219992</td>\n",
       "      <td>1.000000</td>\n",
       "      <td>1.141667</td>\n",
       "      <td>1.438008</td>\n",
       "      <td>0.343210</td>\n",
       "    </tr>\n",
       "    <tr>\n",
       "      <th>352</th>\n",
       "      <td>1.000000</td>\n",
       "      <td>1.732560</td>\n",
       "      <td>2.065587</td>\n",
       "      <td>2.132595</td>\n",
       "      <td>2.661405</td>\n",
       "    </tr>\n",
       "    <tr>\n",
       "      <th>353</th>\n",
       "      <td>0.249318</td>\n",
       "      <td>0.656461</td>\n",
       "      <td>0.921856</td>\n",
       "      <td>0.237291</td>\n",
       "      <td>2.409959</td>\n",
       "    </tr>\n",
       "    <tr>\n",
       "      <th>354</th>\n",
       "      <td>1.026275</td>\n",
       "      <td>1.147592</td>\n",
       "      <td>1.360988</td>\n",
       "      <td>1.442058</td>\n",
       "      <td>1.938393</td>\n",
       "    </tr>\n",
       "    <tr>\n",
       "      <th>355</th>\n",
       "      <td>0.000000</td>\n",
       "      <td>0.195999</td>\n",
       "      <td>0.292420</td>\n",
       "      <td>0.000000</td>\n",
       "      <td>0.031273</td>\n",
       "    </tr>\n",
       "    <tr>\n",
       "      <th>356</th>\n",
       "      <td>0.557984</td>\n",
       "      <td>0.329406</td>\n",
       "      <td>0.431054</td>\n",
       "      <td>0.248324</td>\n",
       "      <td>0.553635</td>\n",
       "    </tr>\n",
       "    <tr>\n",
       "      <th>357</th>\n",
       "      <td>1.563868</td>\n",
       "      <td>1.777553</td>\n",
       "      <td>1.903351</td>\n",
       "      <td>3.073150</td>\n",
       "      <td>0.341749</td>\n",
       "    </tr>\n",
       "    <tr>\n",
       "      <th>358</th>\n",
       "      <td>0.481259</td>\n",
       "      <td>1.576589</td>\n",
       "      <td>2.098652</td>\n",
       "      <td>1.042758</td>\n",
       "      <td>1.606658</td>\n",
       "    </tr>\n",
       "    <tr>\n",
       "      <th>359</th>\n",
       "      <td>0.000000</td>\n",
       "      <td>1.206114</td>\n",
       "      <td>1.800053</td>\n",
       "      <td>0.000000</td>\n",
       "      <td>2.560678</td>\n",
       "    </tr>\n",
       "    <tr>\n",
       "      <th>360</th>\n",
       "      <td>2.651872</td>\n",
       "      <td>1.117490</td>\n",
       "      <td>1.000000</td>\n",
       "      <td>2.737898</td>\n",
       "      <td>1.000000</td>\n",
       "    </tr>\n",
       "    <tr>\n",
       "      <th>361</th>\n",
       "      <td>0.130273</td>\n",
       "      <td>0.246153</td>\n",
       "      <td>0.355704</td>\n",
       "      <td>0.047842</td>\n",
       "      <td>0.874950</td>\n",
       "    </tr>\n",
       "    <tr>\n",
       "      <th>362</th>\n",
       "      <td>1.018278</td>\n",
       "      <td>0.800763</td>\n",
       "      <td>0.951193</td>\n",
       "      <td>1.000000</td>\n",
       "      <td>1.609866</td>\n",
       "    </tr>\n",
       "    <tr>\n",
       "      <th>363</th>\n",
       "      <td>1.031434</td>\n",
       "      <td>1.206462</td>\n",
       "      <td>1.429335</td>\n",
       "      <td>1.522090</td>\n",
       "      <td>1.880449</td>\n",
       "    </tr>\n",
       "    <tr>\n",
       "      <th>364</th>\n",
       "      <td>0.000000</td>\n",
       "      <td>0.236784</td>\n",
       "      <td>0.353376</td>\n",
       "      <td>0.000000</td>\n",
       "      <td>0.464906</td>\n",
       "    </tr>\n",
       "  </tbody>\n",
       "</table>\n",
       "</div>"
      ],
      "text/plain": [
       "     gas_percent_N       EPF  Energy_PF  gas_used_PF  Total_Energy\n",
       "350       5.963017  0.054750   0.032620     0.200824      0.004015\n",
       "351       1.219992  1.000000   1.141667     1.438008      0.343210\n",
       "352       1.000000  1.732560   2.065587     2.132595      2.661405\n",
       "353       0.249318  0.656461   0.921856     0.237291      2.409959\n",
       "354       1.026275  1.147592   1.360988     1.442058      1.938393\n",
       "355       0.000000  0.195999   0.292420     0.000000      0.031273\n",
       "356       0.557984  0.329406   0.431054     0.248324      0.553635\n",
       "357       1.563868  1.777553   1.903351     3.073150      0.341749\n",
       "358       0.481259  1.576589   2.098652     1.042758      1.606658\n",
       "359       0.000000  1.206114   1.800053     0.000000      2.560678\n",
       "360       2.651872  1.117490   1.000000     2.737898      1.000000\n",
       "361       0.130273  0.246153   0.355704     0.047842      0.874950\n",
       "362       1.018278  0.800763   0.951193     1.000000      1.609866\n",
       "363       1.031434  1.206462   1.429335     1.522090      1.880449\n",
       "364       0.000000  0.236784   0.353376     0.000000      0.464906"
      ]
     },
     "execution_count": 16,
     "metadata": {},
     "output_type": "execute_result"
    }
   ],
   "source": [
    "TD"
   ]
  },
  {
   "cell_type": "markdown",
   "metadata": {},
   "source": [
    "### The following step Checks for any outliers in the data and replace it with the median as the number of outliers is very small"
   ]
  },
  {
   "cell_type": "code",
   "execution_count": 17,
   "metadata": {},
   "outputs": [],
   "source": [
    "k = []\n",
    "k.clear()\n",
    "for l in range(0,4):\n",
    "    for j in range(0,TR['EPF'].size):\n",
    "        if(TR.iloc[j,l]>6.6):\n",
    "             k.append(j)\n",
    "            \n",
    "    for j in k:\n",
    "        TR.iloc[j,l]=TR.iloc[:,l].median()\n",
    "            \n",
    "    k.clear()\n"
   ]
  },
  {
   "cell_type": "code",
   "execution_count": 18,
   "metadata": {},
   "outputs": [],
   "source": [
    "k.clear()\n",
    "k = []\n",
    "for l in range(0,4):\n",
    "    for j in range(0,TD['EPF'].size):\n",
    "        if(TD.iloc[j,l]>6.6):\n",
    "             k.append(j)\n",
    "            \n",
    "    for j in k:\n",
    "        TD.iloc[j,l]=TD.iloc[:,l].median()\n",
    "            \n",
    "    k.clear()\n"
   ]
  },
  {
   "cell_type": "code",
   "execution_count": 19,
   "metadata": {},
   "outputs": [],
   "source": [
    "TD.drop(index=364,inplace=True)"
   ]
  },
  {
   "cell_type": "markdown",
   "metadata": {},
   "source": [
    "### Running the regression model with features as 'Energy_PF', 'gas_used_PF', 'Total_Energy'"
   ]
  },
  {
   "cell_type": "code",
   "execution_count": 20,
   "metadata": {},
   "outputs": [
    {
     "data": {
      "text/plain": [
       "LinearRegression(copy_X=True, fit_intercept=True, n_jobs=1, normalize=True)"
      ]
     },
     "execution_count": 20,
     "metadata": {},
     "output_type": "execute_result"
    }
   ],
   "source": [
    "reg1.fit(TR[['Energy_PF','gas_used_PF','Total_Energy']],TR.EPF)"
   ]
  },
  {
   "cell_type": "markdown",
   "metadata": {},
   "source": [
    "### Coefficients of the model"
   ]
  },
  {
   "cell_type": "code",
   "execution_count": 21,
   "metadata": {},
   "outputs": [
    {
     "data": {
      "text/plain": [
       "array([ 8.61203625e-01,  1.01623860e-01, -8.34348964e-07])"
      ]
     },
     "execution_count": 21,
     "metadata": {},
     "output_type": "execute_result"
    }
   ],
   "source": [
    "reg1.coef_"
   ]
  },
  {
   "cell_type": "markdown",
   "metadata": {},
   "source": [
    "### Using the Test data to predict the values with model and finding the accuracy of the model"
   ]
  },
  {
   "cell_type": "code",
   "execution_count": 22,
   "metadata": {},
   "outputs": [],
   "source": [
    "res=reg1.predict(TD[['Energy_PF','gas_used_PF','Total_Energy']])"
   ]
  },
  {
   "cell_type": "code",
   "execution_count": 29,
   "metadata": {},
   "outputs": [
    {
     "data": {
      "text/plain": [
       "22.86610075671855"
      ]
     },
     "execution_count": 29,
     "metadata": {},
     "output_type": "execute_result"
    }
   ],
   "source": [
    "((res-TD['EPF'])/TD['EPF']).mean()*100"
   ]
  },
  {
   "cell_type": "markdown",
   "metadata": {},
   "source": [
    "### In our case it comes out to be somewhere near 75% accurate"
   ]
  },
  {
   "cell_type": "markdown",
   "metadata": {},
   "source": [
    "### From here we use the above model, trying to find out that how much increase in gas usage will cut the emmisions by 10%"
   ]
  },
  {
   "cell_type": "code",
   "execution_count": 30,
   "metadata": {},
   "outputs": [],
   "source": [
    "TD['EPF_new'] = res"
   ]
  },
  {
   "cell_type": "code",
   "execution_count": 31,
   "metadata": {},
   "outputs": [],
   "source": [
    "new_test = TD.copy()"
   ]
  },
  {
   "cell_type": "code",
   "execution_count": 32,
   "metadata": {},
   "outputs": [
    {
     "data": {
      "text/html": [
       "<div>\n",
       "<style scoped>\n",
       "    .dataframe tbody tr th:only-of-type {\n",
       "        vertical-align: middle;\n",
       "    }\n",
       "\n",
       "    .dataframe tbody tr th {\n",
       "        vertical-align: top;\n",
       "    }\n",
       "\n",
       "    .dataframe thead th {\n",
       "        text-align: right;\n",
       "    }\n",
       "</style>\n",
       "<table border=\"1\" class=\"dataframe\">\n",
       "  <thead>\n",
       "    <tr style=\"text-align: right;\">\n",
       "      <th></th>\n",
       "      <th>gas_percent_N</th>\n",
       "      <th>EPF</th>\n",
       "      <th>Energy_PF</th>\n",
       "      <th>gas_used_PF</th>\n",
       "      <th>Total_Energy</th>\n",
       "      <th>EPF_new</th>\n",
       "    </tr>\n",
       "  </thead>\n",
       "  <tbody>\n",
       "    <tr>\n",
       "      <th>350</th>\n",
       "      <td>5.963017</td>\n",
       "      <td>0.054750</td>\n",
       "      <td>0.032620</td>\n",
       "      <td>0.200824</td>\n",
       "      <td>0.004015</td>\n",
       "      <td>0.073140</td>\n",
       "    </tr>\n",
       "    <tr>\n",
       "      <th>351</th>\n",
       "      <td>1.219992</td>\n",
       "      <td>1.000000</td>\n",
       "      <td>1.141667</td>\n",
       "      <td>1.438008</td>\n",
       "      <td>0.343210</td>\n",
       "      <td>1.153982</td>\n",
       "    </tr>\n",
       "    <tr>\n",
       "      <th>352</th>\n",
       "      <td>1.000000</td>\n",
       "      <td>1.732560</td>\n",
       "      <td>2.065587</td>\n",
       "      <td>2.132595</td>\n",
       "      <td>2.661405</td>\n",
       "      <td>2.020250</td>\n",
       "    </tr>\n",
       "    <tr>\n",
       "      <th>353</th>\n",
       "      <td>0.249318</td>\n",
       "      <td>0.656461</td>\n",
       "      <td>0.921856</td>\n",
       "      <td>0.237291</td>\n",
       "      <td>2.409959</td>\n",
       "      <td>0.842657</td>\n",
       "    </tr>\n",
       "    <tr>\n",
       "      <th>354</th>\n",
       "      <td>1.026275</td>\n",
       "      <td>1.147592</td>\n",
       "      <td>1.360988</td>\n",
       "      <td>1.442058</td>\n",
       "      <td>1.938393</td>\n",
       "      <td>1.343272</td>\n",
       "    </tr>\n",
       "    <tr>\n",
       "      <th>355</th>\n",
       "      <td>0.000000</td>\n",
       "      <td>0.195999</td>\n",
       "      <td>0.292420</td>\n",
       "      <td>0.000000</td>\n",
       "      <td>0.031273</td>\n",
       "      <td>0.276472</td>\n",
       "    </tr>\n",
       "    <tr>\n",
       "      <th>356</th>\n",
       "      <td>0.557984</td>\n",
       "      <td>0.329406</td>\n",
       "      <td>0.431054</td>\n",
       "      <td>0.248324</td>\n",
       "      <td>0.553635</td>\n",
       "      <td>0.421099</td>\n",
       "    </tr>\n",
       "    <tr>\n",
       "      <th>357</th>\n",
       "      <td>1.563868</td>\n",
       "      <td>1.777553</td>\n",
       "      <td>1.903351</td>\n",
       "      <td>3.073150</td>\n",
       "      <td>0.341749</td>\n",
       "      <td>1.976117</td>\n",
       "    </tr>\n",
       "    <tr>\n",
       "      <th>358</th>\n",
       "      <td>0.481259</td>\n",
       "      <td>1.576589</td>\n",
       "      <td>2.098652</td>\n",
       "      <td>1.042758</td>\n",
       "      <td>1.606658</td>\n",
       "      <td>1.937973</td>\n",
       "    </tr>\n",
       "    <tr>\n",
       "      <th>359</th>\n",
       "      <td>0.000000</td>\n",
       "      <td>1.206114</td>\n",
       "      <td>1.800053</td>\n",
       "      <td>0.000000</td>\n",
       "      <td>2.560678</td>\n",
       "      <td>1.574849</td>\n",
       "    </tr>\n",
       "    <tr>\n",
       "      <th>360</th>\n",
       "      <td>2.651872</td>\n",
       "      <td>1.117490</td>\n",
       "      <td>1.000000</td>\n",
       "      <td>2.737898</td>\n",
       "      <td>1.000000</td>\n",
       "      <td>1.164077</td>\n",
       "    </tr>\n",
       "    <tr>\n",
       "      <th>361</th>\n",
       "      <td>0.130273</td>\n",
       "      <td>0.246153</td>\n",
       "      <td>0.355704</td>\n",
       "      <td>0.047842</td>\n",
       "      <td>0.874950</td>\n",
       "      <td>0.335834</td>\n",
       "    </tr>\n",
       "    <tr>\n",
       "      <th>362</th>\n",
       "      <td>1.018278</td>\n",
       "      <td>0.800763</td>\n",
       "      <td>0.951193</td>\n",
       "      <td>1.000000</td>\n",
       "      <td>1.609866</td>\n",
       "      <td>0.945432</td>\n",
       "    </tr>\n",
       "    <tr>\n",
       "      <th>363</th>\n",
       "      <td>1.031434</td>\n",
       "      <td>1.206462</td>\n",
       "      <td>1.429335</td>\n",
       "      <td>1.522090</td>\n",
       "      <td>1.880449</td>\n",
       "      <td>1.410267</td>\n",
       "    </tr>\n",
       "  </tbody>\n",
       "</table>\n",
       "</div>"
      ],
      "text/plain": [
       "     gas_percent_N       EPF  Energy_PF  gas_used_PF  Total_Energy   EPF_new\n",
       "350       5.963017  0.054750   0.032620     0.200824      0.004015  0.073140\n",
       "351       1.219992  1.000000   1.141667     1.438008      0.343210  1.153982\n",
       "352       1.000000  1.732560   2.065587     2.132595      2.661405  2.020250\n",
       "353       0.249318  0.656461   0.921856     0.237291      2.409959  0.842657\n",
       "354       1.026275  1.147592   1.360988     1.442058      1.938393  1.343272\n",
       "355       0.000000  0.195999   0.292420     0.000000      0.031273  0.276472\n",
       "356       0.557984  0.329406   0.431054     0.248324      0.553635  0.421099\n",
       "357       1.563868  1.777553   1.903351     3.073150      0.341749  1.976117\n",
       "358       0.481259  1.576589   2.098652     1.042758      1.606658  1.937973\n",
       "359       0.000000  1.206114   1.800053     0.000000      2.560678  1.574849\n",
       "360       2.651872  1.117490   1.000000     2.737898      1.000000  1.164077\n",
       "361       0.130273  0.246153   0.355704     0.047842      0.874950  0.335834\n",
       "362       1.018278  0.800763   0.951193     1.000000      1.609866  0.945432\n",
       "363       1.031434  1.206462   1.429335     1.522090      1.880449  1.410267"
      ]
     },
     "execution_count": 32,
     "metadata": {},
     "output_type": "execute_result"
    }
   ],
   "source": [
    "new_test"
   ]
  },
  {
   "cell_type": "code",
   "execution_count": 33,
   "metadata": {},
   "outputs": [],
   "source": [
    "new_test['gas_used_PF']=(new_test['gas_used_PF']*1.80)"
   ]
  },
  {
   "cell_type": "code",
   "execution_count": 134,
   "metadata": {},
   "outputs": [
    {
     "data": {
      "text/html": [
       "<div>\n",
       "<style scoped>\n",
       "    .dataframe tbody tr th:only-of-type {\n",
       "        vertical-align: middle;\n",
       "    }\n",
       "\n",
       "    .dataframe tbody tr th {\n",
       "        vertical-align: top;\n",
       "    }\n",
       "\n",
       "    .dataframe thead th {\n",
       "        text-align: right;\n",
       "    }\n",
       "</style>\n",
       "<table border=\"1\" class=\"dataframe\">\n",
       "  <thead>\n",
       "    <tr style=\"text-align: right;\">\n",
       "      <th></th>\n",
       "      <th>gas_percent_N</th>\n",
       "      <th>EPF</th>\n",
       "      <th>Energy_PF</th>\n",
       "      <th>gas_used_PF</th>\n",
       "      <th>Total_Energy</th>\n",
       "      <th>EPF_new</th>\n",
       "    </tr>\n",
       "  </thead>\n",
       "  <tbody>\n",
       "    <tr>\n",
       "      <th>350</th>\n",
       "      <td>5.963017</td>\n",
       "      <td>0.054750</td>\n",
       "      <td>0.032620</td>\n",
       "      <td>0.361484</td>\n",
       "      <td>0.004015</td>\n",
       "      <td>0.073140</td>\n",
       "    </tr>\n",
       "    <tr>\n",
       "      <th>351</th>\n",
       "      <td>1.219992</td>\n",
       "      <td>1.000000</td>\n",
       "      <td>1.141667</td>\n",
       "      <td>2.588415</td>\n",
       "      <td>0.343210</td>\n",
       "      <td>1.153982</td>\n",
       "    </tr>\n",
       "    <tr>\n",
       "      <th>352</th>\n",
       "      <td>1.000000</td>\n",
       "      <td>1.732560</td>\n",
       "      <td>2.065587</td>\n",
       "      <td>3.838670</td>\n",
       "      <td>2.661405</td>\n",
       "      <td>2.020250</td>\n",
       "    </tr>\n",
       "    <tr>\n",
       "      <th>353</th>\n",
       "      <td>0.249318</td>\n",
       "      <td>0.656461</td>\n",
       "      <td>0.921856</td>\n",
       "      <td>0.427124</td>\n",
       "      <td>2.409959</td>\n",
       "      <td>0.842657</td>\n",
       "    </tr>\n",
       "    <tr>\n",
       "      <th>354</th>\n",
       "      <td>1.026275</td>\n",
       "      <td>1.147592</td>\n",
       "      <td>1.360988</td>\n",
       "      <td>2.595704</td>\n",
       "      <td>1.938393</td>\n",
       "      <td>1.343272</td>\n",
       "    </tr>\n",
       "    <tr>\n",
       "      <th>355</th>\n",
       "      <td>0.000000</td>\n",
       "      <td>0.195999</td>\n",
       "      <td>0.292420</td>\n",
       "      <td>0.000000</td>\n",
       "      <td>0.031273</td>\n",
       "      <td>0.276472</td>\n",
       "    </tr>\n",
       "    <tr>\n",
       "      <th>356</th>\n",
       "      <td>0.557984</td>\n",
       "      <td>0.329406</td>\n",
       "      <td>0.431054</td>\n",
       "      <td>0.446982</td>\n",
       "      <td>0.553635</td>\n",
       "      <td>0.421099</td>\n",
       "    </tr>\n",
       "    <tr>\n",
       "      <th>357</th>\n",
       "      <td>1.563868</td>\n",
       "      <td>1.777553</td>\n",
       "      <td>1.903351</td>\n",
       "      <td>5.531670</td>\n",
       "      <td>0.341749</td>\n",
       "      <td>1.976117</td>\n",
       "    </tr>\n",
       "    <tr>\n",
       "      <th>358</th>\n",
       "      <td>0.481259</td>\n",
       "      <td>1.576589</td>\n",
       "      <td>2.098652</td>\n",
       "      <td>1.876964</td>\n",
       "      <td>1.606658</td>\n",
       "      <td>1.937973</td>\n",
       "    </tr>\n",
       "    <tr>\n",
       "      <th>359</th>\n",
       "      <td>0.000000</td>\n",
       "      <td>1.206114</td>\n",
       "      <td>1.800053</td>\n",
       "      <td>0.000000</td>\n",
       "      <td>2.560678</td>\n",
       "      <td>1.574849</td>\n",
       "    </tr>\n",
       "    <tr>\n",
       "      <th>360</th>\n",
       "      <td>2.651872</td>\n",
       "      <td>1.117490</td>\n",
       "      <td>1.000000</td>\n",
       "      <td>4.928216</td>\n",
       "      <td>1.000000</td>\n",
       "      <td>1.164077</td>\n",
       "    </tr>\n",
       "    <tr>\n",
       "      <th>361</th>\n",
       "      <td>0.130273</td>\n",
       "      <td>0.246153</td>\n",
       "      <td>0.355704</td>\n",
       "      <td>0.086115</td>\n",
       "      <td>0.874950</td>\n",
       "      <td>0.335834</td>\n",
       "    </tr>\n",
       "    <tr>\n",
       "      <th>362</th>\n",
       "      <td>1.018278</td>\n",
       "      <td>0.800763</td>\n",
       "      <td>0.951193</td>\n",
       "      <td>1.800000</td>\n",
       "      <td>1.609866</td>\n",
       "      <td>0.945432</td>\n",
       "    </tr>\n",
       "    <tr>\n",
       "      <th>363</th>\n",
       "      <td>1.031434</td>\n",
       "      <td>1.206462</td>\n",
       "      <td>1.429335</td>\n",
       "      <td>2.739761</td>\n",
       "      <td>1.880449</td>\n",
       "      <td>1.410267</td>\n",
       "    </tr>\n",
       "  </tbody>\n",
       "</table>\n",
       "</div>"
      ],
      "text/plain": [
       "     gas_percent_N       EPF  Energy_PF  gas_used_PF  Total_Energy   EPF_new\n",
       "350       5.963017  0.054750   0.032620     0.361484      0.004015  0.073140\n",
       "351       1.219992  1.000000   1.141667     2.588415      0.343210  1.153982\n",
       "352       1.000000  1.732560   2.065587     3.838670      2.661405  2.020250\n",
       "353       0.249318  0.656461   0.921856     0.427124      2.409959  0.842657\n",
       "354       1.026275  1.147592   1.360988     2.595704      1.938393  1.343272\n",
       "355       0.000000  0.195999   0.292420     0.000000      0.031273  0.276472\n",
       "356       0.557984  0.329406   0.431054     0.446982      0.553635  0.421099\n",
       "357       1.563868  1.777553   1.903351     5.531670      0.341749  1.976117\n",
       "358       0.481259  1.576589   2.098652     1.876964      1.606658  1.937973\n",
       "359       0.000000  1.206114   1.800053     0.000000      2.560678  1.574849\n",
       "360       2.651872  1.117490   1.000000     4.928216      1.000000  1.164077\n",
       "361       0.130273  0.246153   0.355704     0.086115      0.874950  0.335834\n",
       "362       1.018278  0.800763   0.951193     1.800000      1.609866  0.945432\n",
       "363       1.031434  1.206462   1.429335     2.739761      1.880449  1.410267"
      ]
     },
     "execution_count": 134,
     "metadata": {},
     "output_type": "execute_result"
    }
   ],
   "source": [
    "new_test"
   ]
  },
  {
   "cell_type": "code",
   "execution_count": 35,
   "metadata": {},
   "outputs": [],
   "source": [
    "res = reg1.predict(new_test[['Energy_PF','gas_used_PF','Total_Energy']])"
   ]
  },
  {
   "cell_type": "code",
   "execution_count": 36,
   "metadata": {},
   "outputs": [
    {
     "data": {
      "text/plain": [
       "1.0796557099993607"
      ]
     },
     "execution_count": 36,
     "metadata": {},
     "output_type": "execute_result"
    }
   ],
   "source": [
    "(res/new_test['EPF_new']).mean()"
   ]
  },
  {
   "cell_type": "markdown",
   "metadata": {},
   "source": [
    "### Creating a linear graph as x-axis equals % increase in gas usage,"
   ]
  },
  {
   "cell_type": "code",
   "execution_count": 37,
   "metadata": {
    "scrolled": true
   },
   "outputs": [
    {
     "data": {
      "text/plain": [
       "100"
      ]
     },
     "execution_count": 37,
     "metadata": {},
     "output_type": "execute_result"
    }
   ],
   "source": [
    "EPF = []\n",
    "k=0\n",
    "EPF.clear()\n",
    "for i in range (0,100):\n",
    "    new_test = TD.copy()\n",
    "    new_test['gas_used_PF']=(new_test['gas_used_PF']*((1)+(i/100)))\n",
    "    res = reg1.predict(new_test[['Energy_PF','gas_used_PF','Total_Energy']])\n",
    "    k=k+1\n",
    "    EPF.append(abs(res/(new_test['EPF_new'])).mean())\n",
    "\n",
    "               \n",
    "k\n",
    "    "
   ]
  },
  {
   "cell_type": "code",
   "execution_count": 38,
   "metadata": {},
   "outputs": [
    {
     "data": {
      "text/plain": [
       "[<matplotlib.lines.Line2D at 0x272f97b1908>]"
      ]
     },
     "execution_count": 38,
     "metadata": {},
     "output_type": "execute_result"
    },
    {
     "data": {
      "image/png": "[encoded data removed]",
      "text/plain": [
       "<Figure size 1440x360 with 1 Axes>"
      ]
     },
     "metadata": {},
     "output_type": "display_data"
    }
   ],
   "source": [
    "x=list(range(100))\n",
    "#y1=TD['EPF_new']\n",
    "y2=EPF\n",
    "plt.figure(figsize=(20,5))\n",
    "#plt.plot(x,y1)\n",
    "plt.plot(x,y2)\n",
    "#plt.plot(x,)"
   ]
  },
  {
   "cell_type": "code",
   "execution_count": 39,
   "metadata": {},
   "outputs": [
    {
     "data": {
      "text/plain": [
       "1.0796557099993607"
      ]
     },
     "execution_count": 39,
     "metadata": {},
     "output_type": "execute_result"
    }
   ],
   "source": [
    "EPF[80]"
   ]
  },
  {
   "cell_type": "markdown",
   "metadata": {},
   "source": [
    "### From the above we could see that an 100% increase in gas use would only lead to decrese in 10% of GHG emissions, If we consider the below"
   ]
  },
  {
   "cell_type": "code",
   "execution_count": 40,
   "metadata": {},
   "outputs": [
    {
     "data": {
      "text/plain": [
       "3.8430068466260834"
      ]
     },
     "execution_count": 40,
     "metadata": {},
     "output_type": "execute_result"
    }
   ],
   "source": [
    "(new_data['Annual gas use']/new_data['Annual_use']).mean()*100"
   ]
  },
  {
   "cell_type": "markdown",
   "metadata": {},
   "source": [
    "### On an average only 3.8% of total energy used by buildings is provided by natural gas, to so its a very significant decrease in Green house gas emission but just doubling the usage of gas."
   ]
  },
  {
   "cell_type": "code",
   "execution_count": 41,
   "metadata": {},
   "outputs": [
    {
     "data": {
      "text/plain": [
       "'C:\\\\Users\\\\AADITHIYA'"
      ]
     },
     "execution_count": 41,
     "metadata": {},
     "output_type": "execute_result"
    }
   ],
   "source": [
    "pwd"
   ]
  },
  {
   "cell_type": "code",
   "execution_count": null,
   "metadata": {},
   "outputs": [],
   "source": []
  }
 ],
 "metadata": {
  "kernelspec": {
   "display_name": "Python 3",
   "language": "python",
   "name": "python3"
  },
  "language_info": {
   "codemirror_mode": {
    "name": "ipython",
    "version": 3
   },
   "file_extension": ".py",
   "mimetype": "text/x-python",
   "name": "python",
   "nbconvert_exporter": "python",
   "pygments_lexer": "ipython3",
   "version": "3.6.5"
  }
 },
 "nbformat": 4,
 "nbformat_minor": 2
}
